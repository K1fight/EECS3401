{
 "cells": [
  {
   "cell_type": "markdown",
   "source": [
    "Assignment 2\n",
    "Student name: Wenzhuo Li\n",
    "Stundent Number: 217101841"
   ],
   "metadata": {
    "collapsed": false
   },
   "id": "b9f99dd4132fc9ba"
  },
  {
   "cell_type": "markdown",
   "source": [
    "1.We should import the necessary libraries and link with database"
   ],
   "metadata": {
    "collapsed": false
   },
   "id": "d6c7922170c1982c"
  },
  {
   "cell_type": "code",
   "execution_count": 19,
   "id": "initial_id",
   "metadata": {
    "collapsed": true,
    "ExecuteTime": {
     "end_time": "2023-11-09T06:17:59.165589Z",
     "start_time": "2023-11-09T06:17:59.161338Z"
    }
   },
   "outputs": [],
   "source": [
    "from ucimlrepo import fetch_ucirepo\n",
    "\n",
    "import numpy as np\n",
    "import pandas as pd\n",
    "from sklearn.compose import ColumnTransformer\n",
    "from sklearn.impute import SimpleImputer\n",
    "from sklearn.preprocessing import StandardScaler\n",
    "from sklearn.preprocessing import OneHotEncoder\n",
    "from sklearn.pipeline import make_pipeline\n",
    "from sklearn.model_selection import train_test_split"
   ]
  },
  {
   "cell_type": "raw",
   "source": [
    "Task 2:Take a quick look at the data structure (i.e., X) using .head(), .info(), .describe(), and .shape."
   ],
   "metadata": {
    "collapsed": false
   },
   "id": "f3b02107a252240a"
  },
  {
   "cell_type": "code",
   "execution_count": 22,
   "outputs": [],
   "source": [
    "def main():    \n",
    "    adult = fetch_ucirepo(id=2)\n",
    "    X = adult.data.features\n",
    "    y = adult.data.targets\n",
    "    # metadata\n",
    "    print(adult.metadata)\n",
    "    # variable information\n",
    "    print(adult.variables)\n",
    "    # .head\n",
    "    X.head()\n",
    "    # .info\n",
    "    X.info()\n",
    "    # .describe\n",
    "    print(X.describe())\n",
    "    # .shape\n",
    "    print(X.shape)"
   ],
   "metadata": {
    "collapsed": false,
    "ExecuteTime": {
     "end_time": "2023-11-09T06:19:55.131441Z",
     "start_time": "2023-11-09T06:19:55.124279Z"
    }
   },
   "id": "f083aa90b134657d"
  },
  {
   "cell_type": "markdown",
   "source": [],
   "metadata": {
    "collapsed": false
   },
   "id": "74d112c43593440b"
  }
 ],
 "metadata": {
  "kernelspec": {
   "display_name": "Python 3",
   "language": "python",
   "name": "python3"
  },
  "language_info": {
   "codemirror_mode": {
    "name": "ipython",
    "version": 2
   },
   "file_extension": ".py",
   "mimetype": "text/x-python",
   "name": "python",
   "nbconvert_exporter": "python",
   "pygments_lexer": "ipython2",
   "version": "2.7.6"
  }
 },
 "nbformat": 4,
 "nbformat_minor": 5
}
